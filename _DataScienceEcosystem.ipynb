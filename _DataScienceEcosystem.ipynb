{
 "cells": [
  {
   "cell_type": "markdown",
   "id": "0b91c9e3-8bc5-4283-b787-b0dcfccdcd42",
   "metadata": {
    "tags": []
   },
   "source": [
    "# Data Science Tools and Ecosystem"
   ]
  },
  {
   "cell_type": "markdown",
   "id": "1fd09ad5-4ad8-4623-b66e-fc82555ff6ad",
   "metadata": {},
   "source": [
    "In this notebook, Data Science Tools and Ecosystem are summarized."
   ]
  },
  {
   "cell_type": "markdown",
   "id": "ea3ad0fb-21b2-489f-bef6-eea11e31c11f",
   "metadata": {},
   "source": [
    "**Objectives:**\n",
    "- List popular languages for Data Science\n",
    "- Create interactive output (HTML, images, videos, LateX)\n",
    "- Legeverage Big data tools, such Python, R, and Scala. Explore that same data with pandas, scikit-learn, ggplot2, and TensorFlow."
   ]
  },
  {
   "cell_type": "markdown",
   "id": "53e82091-f075-4866-8160-4b831cf506e6",
   "metadata": {},
   "source": [
    "Some of the popular languages that Data Scientists use are:\n",
    "1. Python\n",
    "2. JavaScript\n",
    "3. Java\n",
    "4. R\n",
    "5. C/C++\n",
    "6. SQL\n",
    "7. MATLAB\n",
    "8. Scala\n",
    "9. Julia\n",
    "10. SAS"
   ]
  },
  {
   "cell_type": "markdown",
   "id": "f8937eba-46df-4ff7-b0e8-e6a826da436b",
   "metadata": {},
   "source": [
    "Some of the commonly used libraries used by Data Scientists include:\n",
    "1. TensorFlow\n",
    "2. SciPy\n",
    "3. NumPy\n",
    "4. Pandas\n",
    "5. Matplotlib\n",
    "6. Keras\n",
    "7. Scikit-learn\n",
    "8. PyTorch\n",
    "9. Scrapy\n",
    "10. BeautifulSoup"
   ]
  },
  {
   "cell_type": "markdown",
   "id": "675a69c4-4d9b-41f1-824e-a0430573c288",
   "metadata": {},
   "source": [
    "|Data Science Tools |\n",
    "|----------         |\n",
    "|RStudio            |\n",
    "|Apache Spark       |\n",
    "|TensorFlow         |"
   ]
  },
  {
   "cell_type": "markdown",
   "id": "3701c74b-0e0a-4696-987f-a734767cd486",
   "metadata": {},
   "source": [
    "### Below are a few examples of evaluating arithmetic expressions in Python."
   ]
  },
  {
   "cell_type": "code",
   "execution_count": 13,
   "id": "1f2d7e3b-f5d0-4ad7-bec1-5285aff5d5fe",
   "metadata": {},
   "outputs": [
    {
     "data": {
      "text/plain": [
       "17"
      ]
     },
     "execution_count": 13,
     "metadata": {},
     "output_type": "execute_result"
    }
   ],
   "source": [
    "# This a simple arithmetic expression to mutiply then add integers\n",
    "(3*4)+5"
   ]
  },
  {
   "cell_type": "code",
   "execution_count": 18,
   "id": "61bea364-611d-4ed9-91df-ae78f4996d5b",
   "metadata": {},
   "outputs": [
    {
     "data": {
      "text/plain": [
       "3.3333333333333335"
      ]
     },
     "execution_count": 18,
     "metadata": {},
     "output_type": "execute_result"
    }
   ],
   "source": [
    "# This will convert 200 minutes to hours by diving by 60\n",
    "200/60"
   ]
  },
  {
   "cell_type": "markdown",
   "id": "2abf8a26-0e0b-4418-b133-d00092c90a09",
   "metadata": {},
   "source": [
    "## Author\n",
    "**Alberto Soldà**"
   ]
  },
  {
   "cell_type": "code",
   "execution_count": null,
   "id": "8f0cc1c5-b681-4524-94ec-c2234c5fed39",
   "metadata": {},
   "outputs": [],
   "source": []
  }
 ],
 "metadata": {
  "kernelspec": {
   "display_name": "Python 3 (ipykernel)",
   "language": "python",
   "name": "python3"
  },
  "language_info": {
   "codemirror_mode": {
    "name": "ipython",
    "version": 3
   },
   "file_extension": ".py",
   "mimetype": "text/x-python",
   "name": "python",
   "nbconvert_exporter": "python",
   "pygments_lexer": "ipython3",
   "version": "3.10.9"
  }
 },
 "nbformat": 4,
 "nbformat_minor": 5
}
